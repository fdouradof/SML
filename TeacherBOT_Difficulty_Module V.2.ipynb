{
  "nbformat": 4,
  "nbformat_minor": 0,
  "metadata": {
    "colab": {
      "provenance": [],
      "authorship_tag": "ABX9TyPWtotboCb9XyBPFiPKhKd7",
      "include_colab_link": true
    },
    "kernelspec": {
      "name": "python3",
      "display_name": "Python 3"
    },
    "language_info": {
      "name": "python"
    }
  },
  "cells": [
    {
      "cell_type": "markdown",
      "metadata": {
        "id": "view-in-github",
        "colab_type": "text"
      },
      "source": [
        "<a href=\"https://colab.research.google.com/github/fdouradof/SML/blob/main/TeacherBOT_Difficulty_Module%20V.2.ipynb\" target=\"_parent\"><img src=\"https://colab.research.google.com/assets/colab-badge.svg\" alt=\"Open In Colab\"/></a>"
      ]
    },
    {
      "cell_type": "code",
      "execution_count": 1,
      "metadata": {
        "id": "LiTIwkkxzbjL"
      },
      "outputs": [],
      "source": [
        "import pandas as pd\n",
        "import numpy as np"
      ]
    },
    {
      "cell_type": "code",
      "source": [
        "#read data\n",
        "data = pd.read_excel(\"Clear Corpus 6.0.1.xlsx\")"
      ],
      "metadata": {
        "id": "pEnOCtEWzlkv"
      },
      "execution_count": 3,
      "outputs": []
    },
    {
      "cell_type": "code",
      "source": [
        "#Dataframe creation\n",
        "df = pd.DataFrame(data)"
      ],
      "metadata": {
        "id": "uXw7ktXV4Cdw"
      },
      "execution_count": 4,
      "outputs": []
    },
    {
      "cell_type": "code",
      "source": [
        "#features of text in corpus\n",
        "print(df.columns)"
      ],
      "metadata": {
        "id": "d4Dnpa6a0Wn4",
        "colab": {
          "base_uri": "https://localhost:8080/"
        },
        "outputId": "5caf0e7b-fe97-4a27-e272-4dae32bc6e18"
      },
      "execution_count": 5,
      "outputs": [
        {
          "output_type": "stream",
          "name": "stdout",
          "text": [
            "Index(['ID', 'Last Changed', 'Author', 'Title', 'Anthology', 'URL', 'Source',\n",
            "       'Pub Year', 'Category', 'Location', 'License', 'MPAA\\nMax',\n",
            "       'MPAA \\n#Max', 'MPAA\\n#Avg', 'Excerpt', 'Google\\nWC', 'Joon\\nWC v1',\n",
            "       'British WC', 'British Words', 'Sentence\\nCount v1',\n",
            "       'Sentence\\nCount v2', 'Paragraphs', 'BT Easiness', 'BT s.e.',\n",
            "       'Flesch-Reading-Ease', 'Flesch-Kincaid-Grade-Level',\n",
            "       'Automated Readability Index', 'SMOG Readability',\n",
            "       'New Dale-Chall Readability Formula', 'CAREC', 'CAREC_M', 'CARES',\n",
            "       'CML2RI', 'firstPlace_pred', 'secondPlace_pred', 'thirdPlace_pred',\n",
            "       'fourthPlace_pred', 'fifthPlace_pred', 'sixthPlace_pred',\n",
            "       'Kaggle split'],\n",
            "      dtype='object')\n"
          ]
        }
      ]
    },
    {
      "cell_type": "code",
      "source": [
        "# define difficulty \n",
        "print(df[\"BT Easiness\"].head(3))"
      ],
      "metadata": {
        "colab": {
          "base_uri": "https://localhost:8080/"
        },
        "id": "4wLAiFsR0a6X",
        "outputId": "d2cda407-e17b-489a-ce1d-87f515fc00e0"
      },
      "execution_count": 6,
      "outputs": [
        {
          "output_type": "stream",
          "name": "stdout",
          "text": [
            "0   -0.340259\n",
            "1   -0.315372\n",
            "2   -0.580118\n",
            "Name: BT Easiness, dtype: float64\n"
          ]
        }
      ]
    },
    {
      "cell_type": "code",
      "source": [
        "# Chose 2 other features\n",
        "print(\"TIPO = \", df[\"Category\"].iloc[2])\n",
        "print(\"TEXTO = \", df[\"Excerpt\"].iloc[2])\n"
      ],
      "metadata": {
        "id": "ZWbi5Jhd0vST",
        "colab": {
          "base_uri": "https://localhost:8080/"
        },
        "outputId": "e400d0e1-38a8-4f44-b673-2a9177b4e124"
      },
      "execution_count": 7,
      "outputs": [
        {
          "output_type": "stream",
          "name": "stdout",
          "text": [
            "TIPO =  Lit\n",
            "TEXTO =  As Roger had predicted, the snow departed as quickly as it came, and two days after their sleigh ride there was scarcely a vestige of white on the ground. Tennis was again possible and a great game was in progress on the court at Pine Laurel. Patty and Roger were playing against Elise and Sam Blaney, and the pairs were well matched.\n",
            "But the long-contested victory finally went against Patty, and she laughingly accepted defeat.\n",
            "\"Only because Patty's not quite back on her game yet,\" Roger defended; \"this child has been on the sick list, you know, Sam, and she isn't up to her own mark.\"\n",
            "\"Well, I like that!\" cried Patty; \"suppose you bear half the blame, Roger. You see, Mr. Blaney, he is so absorbed in his own Love Game, he can't play with his old-time skill.\"\n",
            "\"All right, Patsy, let it go at that. And it's so, too. I suddenly remembered something Mona told me to tell you, and it affected my service.\"\n"
          ]
        }
      ]
    },
    {
      "cell_type": "code",
      "source": [
        "#Melhor utilizar só a categoria de informação e o texto\n",
        "mask = df.loc[df['Category'] == \"Info\"]\n",
        "\n",
        "print(\"TIPO = \",mask[\"Category\"].iloc[2])\n",
        "print(\"TEXTO =\", mask[\"Excerpt\"].iloc[2])\n",
        "print(\"DIFICULDADE = \",mask[\"BT Easiness\"].iloc[2])\n",
        "\n",
        "df1 = mask\n",
        "df1 =  df1[[\"Excerpt\",\"BT Easiness\"]]\n",
        "df1.shape"
      ],
      "metadata": {
        "colab": {
          "base_uri": "https://localhost:8080/"
        },
        "id": "kuiMQ0b_2mDM",
        "outputId": "01dff8fa-c2b9-4a6c-badf-1850659d8c8e"
      },
      "execution_count": 14,
      "outputs": [
        {
          "output_type": "stream",
          "name": "stdout",
          "text": [
            "TIPO =  Info\n",
            "TEXTO = I have here a knife. It was given me by a friend, a token of his affection and esteem, when I went aboard the steamer in Manila, Philippine Islands, to return to the homeland. All these years since then the knife has been on my study desk, daily teaching me. What lessons does this knife teach?\n",
            "First of all the knife tells me of Strength. The most important part of this knife is what I call the backbone. It is the main portion of the knife to which all the blades are fastened, as well as the polished pearl handle. This would be a weak and useless knife did it not have a backbone. It says to me every day \"Be strong, stand up, have convictions, be steadfast.\"\n",
            "Lesson number two, Discipline. This knife has been subjected to many trials and tests. The steel of which these blades are made had to go through a hard, hot, trying process before they were tempered and fit to take an edge and hold it. Sometimes I rebel about certain processes of the days, then I think of my knife and learn from it the lesson of discipline.\n",
            "DIFICULDADE =  -0.646751102\n"
          ]
        },
        {
          "output_type": "execute_result",
          "data": {
            "text/plain": [
              "(2304, 2)"
            ]
          },
          "metadata": {},
          "execution_count": 14
        }
      ]
    },
    {
      "cell_type": "code",
      "source": [
        "def dificuldade(x):\n",
        "  if x > -1 and (x< 0):\n",
        "    return 1\n",
        "  if x < -1 :\n",
        "    return 2\n",
        "  else:\n",
        "    return 0"
      ],
      "metadata": {
        "id": "MTX_KEciTIAX"
      },
      "execution_count": 11,
      "outputs": []
    },
    {
      "cell_type": "code",
      "source": [
        "model_data = df1\n",
        "model_data[\"label\"] = df1[\"BT Easiness\"].apply(dificuldade)\n",
        "model_data.head(-3)"
      ],
      "metadata": {
        "colab": {
          "base_uri": "https://localhost:8080/",
          "height": 528
        },
        "id": "OJg3CqVDUrpk",
        "outputId": "86eac8ad-e9d4-4c10-c92a-54662c00d3cf"
      },
      "execution_count": 67,
      "outputs": [
        {
          "output_type": "stream",
          "name": "stderr",
          "text": [
            "/usr/local/lib/python3.7/dist-packages/ipykernel_launcher.py:2: SettingWithCopyWarning: \n",
            "A value is trying to be set on a copy of a slice from a DataFrame.\n",
            "Try using .loc[row_indexer,col_indexer] = value instead\n",
            "\n",
            "See the caveats in the documentation: https://pandas.pydata.org/pandas-docs/stable/user_guide/indexing.html#returning-a-view-versus-a-copy\n",
            "  \n"
          ]
        },
        {
          "output_type": "execute_result",
          "data": {
            "text/plain": [
              "                                                Excerpt  BT Easiness  label\n",
              "12    This Pedrarias was seventy-two years old. He w...    -2.145248      2\n",
              "193   In traveling we often meet with persons of dif...    -0.951697      1\n",
              "194   I have here a knife. It was given me by a frie...    -0.646751      1\n",
              "286   The presidential election in the fall of 1848 ...    -0.889420      1\n",
              "287   All that night the valiant captain and his men...    -0.003119      1\n",
              "...                                                 ...          ...    ...\n",
              "4716  The whole universe is built of matter. Right n...     0.650829      0\n",
              "4717  So what is a solid? Solids are usually hard be...     0.189476      0\n",
              "4718  The second state of matter we will discuss is ...     0.255209      0\n",
              "4719  The name Monarch means “king”. An adult Monarc...     0.423388      0\n",
              "4720  Walking Sticks are long, thin, and slow-moving...    -0.614142      1\n",
              "\n",
              "[2301 rows x 3 columns]"
            ],
            "text/html": [
              "\n",
              "  <div id=\"df-6b7af3ca-b86e-4916-8ac0-56dcf36b3d4e\">\n",
              "    <div class=\"colab-df-container\">\n",
              "      <div>\n",
              "<style scoped>\n",
              "    .dataframe tbody tr th:only-of-type {\n",
              "        vertical-align: middle;\n",
              "    }\n",
              "\n",
              "    .dataframe tbody tr th {\n",
              "        vertical-align: top;\n",
              "    }\n",
              "\n",
              "    .dataframe thead th {\n",
              "        text-align: right;\n",
              "    }\n",
              "</style>\n",
              "<table border=\"1\" class=\"dataframe\">\n",
              "  <thead>\n",
              "    <tr style=\"text-align: right;\">\n",
              "      <th></th>\n",
              "      <th>Excerpt</th>\n",
              "      <th>BT Easiness</th>\n",
              "      <th>label</th>\n",
              "    </tr>\n",
              "  </thead>\n",
              "  <tbody>\n",
              "    <tr>\n",
              "      <th>12</th>\n",
              "      <td>This Pedrarias was seventy-two years old. He w...</td>\n",
              "      <td>-2.145248</td>\n",
              "      <td>2</td>\n",
              "    </tr>\n",
              "    <tr>\n",
              "      <th>193</th>\n",
              "      <td>In traveling we often meet with persons of dif...</td>\n",
              "      <td>-0.951697</td>\n",
              "      <td>1</td>\n",
              "    </tr>\n",
              "    <tr>\n",
              "      <th>194</th>\n",
              "      <td>I have here a knife. It was given me by a frie...</td>\n",
              "      <td>-0.646751</td>\n",
              "      <td>1</td>\n",
              "    </tr>\n",
              "    <tr>\n",
              "      <th>286</th>\n",
              "      <td>The presidential election in the fall of 1848 ...</td>\n",
              "      <td>-0.889420</td>\n",
              "      <td>1</td>\n",
              "    </tr>\n",
              "    <tr>\n",
              "      <th>287</th>\n",
              "      <td>All that night the valiant captain and his men...</td>\n",
              "      <td>-0.003119</td>\n",
              "      <td>1</td>\n",
              "    </tr>\n",
              "    <tr>\n",
              "      <th>...</th>\n",
              "      <td>...</td>\n",
              "      <td>...</td>\n",
              "      <td>...</td>\n",
              "    </tr>\n",
              "    <tr>\n",
              "      <th>4716</th>\n",
              "      <td>The whole universe is built of matter. Right n...</td>\n",
              "      <td>0.650829</td>\n",
              "      <td>0</td>\n",
              "    </tr>\n",
              "    <tr>\n",
              "      <th>4717</th>\n",
              "      <td>So what is a solid? Solids are usually hard be...</td>\n",
              "      <td>0.189476</td>\n",
              "      <td>0</td>\n",
              "    </tr>\n",
              "    <tr>\n",
              "      <th>4718</th>\n",
              "      <td>The second state of matter we will discuss is ...</td>\n",
              "      <td>0.255209</td>\n",
              "      <td>0</td>\n",
              "    </tr>\n",
              "    <tr>\n",
              "      <th>4719</th>\n",
              "      <td>The name Monarch means “king”. An adult Monarc...</td>\n",
              "      <td>0.423388</td>\n",
              "      <td>0</td>\n",
              "    </tr>\n",
              "    <tr>\n",
              "      <th>4720</th>\n",
              "      <td>Walking Sticks are long, thin, and slow-moving...</td>\n",
              "      <td>-0.614142</td>\n",
              "      <td>1</td>\n",
              "    </tr>\n",
              "  </tbody>\n",
              "</table>\n",
              "<p>2301 rows × 3 columns</p>\n",
              "</div>\n",
              "      <button class=\"colab-df-convert\" onclick=\"convertToInteractive('df-6b7af3ca-b86e-4916-8ac0-56dcf36b3d4e')\"\n",
              "              title=\"Convert this dataframe to an interactive table.\"\n",
              "              style=\"display:none;\">\n",
              "        \n",
              "  <svg xmlns=\"http://www.w3.org/2000/svg\" height=\"24px\"viewBox=\"0 0 24 24\"\n",
              "       width=\"24px\">\n",
              "    <path d=\"M0 0h24v24H0V0z\" fill=\"none\"/>\n",
              "    <path d=\"M18.56 5.44l.94 2.06.94-2.06 2.06-.94-2.06-.94-.94-2.06-.94 2.06-2.06.94zm-11 1L8.5 8.5l.94-2.06 2.06-.94-2.06-.94L8.5 2.5l-.94 2.06-2.06.94zm10 10l.94 2.06.94-2.06 2.06-.94-2.06-.94-.94-2.06-.94 2.06-2.06.94z\"/><path d=\"M17.41 7.96l-1.37-1.37c-.4-.4-.92-.59-1.43-.59-.52 0-1.04.2-1.43.59L10.3 9.45l-7.72 7.72c-.78.78-.78 2.05 0 2.83L4 21.41c.39.39.9.59 1.41.59.51 0 1.02-.2 1.41-.59l7.78-7.78 2.81-2.81c.8-.78.8-2.07 0-2.86zM5.41 20L4 18.59l7.72-7.72 1.47 1.35L5.41 20z\"/>\n",
              "  </svg>\n",
              "      </button>\n",
              "      \n",
              "  <style>\n",
              "    .colab-df-container {\n",
              "      display:flex;\n",
              "      flex-wrap:wrap;\n",
              "      gap: 12px;\n",
              "    }\n",
              "\n",
              "    .colab-df-convert {\n",
              "      background-color: #E8F0FE;\n",
              "      border: none;\n",
              "      border-radius: 50%;\n",
              "      cursor: pointer;\n",
              "      display: none;\n",
              "      fill: #1967D2;\n",
              "      height: 32px;\n",
              "      padding: 0 0 0 0;\n",
              "      width: 32px;\n",
              "    }\n",
              "\n",
              "    .colab-df-convert:hover {\n",
              "      background-color: #E2EBFA;\n",
              "      box-shadow: 0px 1px 2px rgba(60, 64, 67, 0.3), 0px 1px 3px 1px rgba(60, 64, 67, 0.15);\n",
              "      fill: #174EA6;\n",
              "    }\n",
              "\n",
              "    [theme=dark] .colab-df-convert {\n",
              "      background-color: #3B4455;\n",
              "      fill: #D2E3FC;\n",
              "    }\n",
              "\n",
              "    [theme=dark] .colab-df-convert:hover {\n",
              "      background-color: #434B5C;\n",
              "      box-shadow: 0px 1px 3px 1px rgba(0, 0, 0, 0.15);\n",
              "      filter: drop-shadow(0px 1px 2px rgba(0, 0, 0, 0.3));\n",
              "      fill: #FFFFFF;\n",
              "    }\n",
              "  </style>\n",
              "\n",
              "      <script>\n",
              "        const buttonEl =\n",
              "          document.querySelector('#df-6b7af3ca-b86e-4916-8ac0-56dcf36b3d4e button.colab-df-convert');\n",
              "        buttonEl.style.display =\n",
              "          google.colab.kernel.accessAllowed ? 'block' : 'none';\n",
              "\n",
              "        async function convertToInteractive(key) {\n",
              "          const element = document.querySelector('#df-6b7af3ca-b86e-4916-8ac0-56dcf36b3d4e');\n",
              "          const dataTable =\n",
              "            await google.colab.kernel.invokeFunction('convertToInteractive',\n",
              "                                                     [key], {});\n",
              "          if (!dataTable) return;\n",
              "\n",
              "          const docLinkHtml = 'Like what you see? Visit the ' +\n",
              "            '<a target=\"_blank\" href=https://colab.research.google.com/notebooks/data_table.ipynb>data table notebook</a>'\n",
              "            + ' to learn more about interactive tables.';\n",
              "          element.innerHTML = '';\n",
              "          dataTable['output_type'] = 'display_data';\n",
              "          await google.colab.output.renderOutput(dataTable, element);\n",
              "          const docLink = document.createElement('div');\n",
              "          docLink.innerHTML = docLinkHtml;\n",
              "          element.appendChild(docLink);\n",
              "        }\n",
              "      </script>\n",
              "    </div>\n",
              "  </div>\n",
              "  "
            ]
          },
          "metadata": {},
          "execution_count": 67
        }
      ]
    },
    {
      "cell_type": "code",
      "source": [
        "#Modules for text treatment\n",
        "import re\n",
        "import nltk\n",
        "nltk.download('punkt')\n",
        "nltk.download('stopwords')\n",
        "from nltk.stem import SnowballStemmer\n",
        "from nltk.corpus import stopwords\n",
        "from sklearn.feature_extraction.text import TfidfVectorizer\n",
        "from sklearn.metrics import pairwise_distances\n",
        "from sklearn.feature_extraction.text import CountVectorizer"
      ],
      "metadata": {
        "id": "UjmDWwDw7u5T",
        "colab": {
          "base_uri": "https://localhost:8080/"
        },
        "outputId": "9506fa94-11a6-4f02-d4e9-9e3af1ba79b0"
      },
      "execution_count": 9,
      "outputs": [
        {
          "output_type": "stream",
          "name": "stderr",
          "text": [
            "[nltk_data] Downloading package punkt to /root/nltk_data...\n",
            "[nltk_data]   Unzipping tokenizers/punkt.zip.\n",
            "[nltk_data] Downloading package stopwords to /root/nltk_data...\n",
            "[nltk_data]   Unzipping corpora/stopwords.zip.\n"
          ]
        }
      ]
    },
    {
      "cell_type": "code",
      "source": [
        "#Modules for ML \n",
        "from sklearn.linear_model import LogisticRegression\n",
        "from sklearn.model_selection import train_test_split\n",
        "from sklearn.naive_bayes import GaussianNB\n",
        "from sklearn.neighbors import KNeighborsClassifier\n",
        "from sklearn.metrics import mean_absolute_error,r2_score,mean_squared_error\n",
        "from sklearn import metrics"
      ],
      "metadata": {
        "id": "1hnxI3bZLg3o"
      },
      "execution_count": 253,
      "outputs": []
    },
    {
      "cell_type": "code",
      "source": [
        "def run_experiment(model):\n",
        "    y_pred = model.predict(x_test)\n",
        "    print(\"R^2 : \", r2_score(y_test, y_pred))\n",
        "    print(\"MAE :\", mean_absolute_error(y_test,y_pred))\n",
        "    print(\"RMSE:\",np.sqrt(mean_squared_error(y_test, y_pred)))\n",
        "    return y_pred\n",
        "\n",
        "def evaluate(model):\n",
        "  y_pred = run_experiment(model) \n",
        "  conf_mat = metrics.confusion_matrix(y_test,y_pred)\n",
        "  print(conf_mat)\n",
        "\n",
        "  accuracy = metrics.accuracy_score(y_test,y_pred)                      # Alternative way to calculate the accuracy.\n",
        "  sensitivity = metrics.recall_score(y_test,y_pred,average = None)\n",
        "  precision = metrics.precision_score(y_test,y_pred, average = None)\n",
        "  print('Accuracy    = {}'.format(np.round(accuracy,3)))\n",
        "  print('Sensitvity  = {}'.format(np.round(sensitivity,3)))\n",
        "  print('Precision   = {}'.format(np.round(precision,3)))\n",
        "  print(\"       \")\n",
        "  # accuracy = metrics.accuracy_score(y_test,y_pred)                    \n",
        "  # sensitivity = metrics.recall_score(y_test,y_pred,average = None)\n",
        "  # precision = metrics.precision_score(y_test,y_pred,average = None)\n",
        "\n",
        "  # print('Accuracy    = {}'.format(np.round(accuracy,3)))\n",
        "  # print('Sensitvity  = {}'.format(np.round(sensitivity,3)))\n",
        "  # print('Precision   = {}'.format(np.round(precision,3)))"
      ],
      "metadata": {
        "id": "UGRsY5lxVy7f"
      },
      "execution_count": 254,
      "outputs": []
    },
    {
      "cell_type": "code",
      "source": [
        "def ti(docs,max_features,min_df,max_df):\n",
        "    docs = [str(x).lower() for x in docs]\n",
        "    vectorizer = TfidfVectorizer(max_features = max_features, min_df = min_df, max_df = max_df, stop_words=stopwords.words('english'))\n",
        "    X = vectorizer.fit_transform(docs).toarray()\n",
        "    key_words = vectorizer.get_feature_names_out()\n",
        "    return X, key_words, vectorizer"
      ],
      "metadata": {
        "id": "8ig5VhWu7v5m"
      },
      "execution_count": 249,
      "outputs": []
    },
    {
      "cell_type": "code",
      "source": [
        "# Criar o vetorizador\n",
        "docs = model_data[\"Excerpt\"]\n",
        "X, kw, my_vectorizer = ti(docs,max_features=2000, min_df=0.01, max_df=0.90)\n",
        "X.shape"
      ],
      "metadata": {
        "id": "gPUorcQa9nSr",
        "colab": {
          "base_uri": "https://localhost:8080/"
        },
        "outputId": "c3205d1b-d9b8-45df-a9bd-bdadd5f326bc"
      },
      "execution_count": 330,
      "outputs": [
        {
          "output_type": "execute_result",
          "data": {
            "text/plain": [
              "(2304, 1432)"
            ]
          },
          "metadata": {},
          "execution_count": 330
        }
      ]
    },
    {
      "cell_type": "code",
      "source": [
        "x_values = pd.DataFrame(X, columns = kw).values\n",
        "y_values = model_data[\"label\"].values\n",
        "#check shapes\n",
        "print(len(x_values))\n",
        "print(len(y_values))"
      ],
      "metadata": {
        "id": "Iip2KxU9pKyo",
        "colab": {
          "base_uri": "https://localhost:8080/"
        },
        "outputId": "31cfbf95-5255-4b52-fa4d-7ffe64a044a4"
      },
      "execution_count": 331,
      "outputs": [
        {
          "output_type": "stream",
          "name": "stdout",
          "text": [
            "2304\n",
            "2304\n"
          ]
        }
      ]
    },
    {
      "cell_type": "code",
      "source": [
        "#define ML model\n",
        "M = LogisticRegression(solver='liblinear',max_iter=53)\n",
        "x_train,x_test, y_train, y_test = train_test_split(x_values,y_values, test_size = 0.33, random_state=42)\n",
        "M.fit(x_train,y_train)\n",
        "# other model\n",
        "GNB = GaussianNB()\n",
        "GNB.fit(x_train,y_train)  \n",
        "#another\n",
        "KNN = KNeighborsClassifier(n_neighbors=51)\n",
        "KNN.fit(x_train,y_train)   "
      ],
      "metadata": {
        "colab": {
          "base_uri": "https://localhost:8080/"
        },
        "id": "9nRne4bibPm_",
        "outputId": "fffd145f-d61c-4985-a6fb-f3515f641c33"
      },
      "execution_count": 332,
      "outputs": [
        {
          "output_type": "execute_result",
          "data": {
            "text/plain": [
              "KNeighborsClassifier(n_neighbors=51)"
            ]
          },
          "metadata": {},
          "execution_count": 332
        }
      ]
    },
    {
      "cell_type": "code",
      "source": [
        "#Verificar eficiencia (not sure about the value calculations)\n",
        "print(\"modelo\", M)\n",
        "y_predM = evaluate(M)\n",
        "print(\"modelo\", GNB)\n",
        "y_predGNB = evaluate(GNB)\n",
        "print(\"modelo\", KNN)\n",
        "y_predGNB = evaluate(KNN)"
      ],
      "metadata": {
        "colab": {
          "base_uri": "https://localhost:8080/"
        },
        "id": "Z9-__uicbWje",
        "outputId": "c62a3ead-c64d-4169-ee4c-8f8312ee4c43"
      },
      "execution_count": 333,
      "outputs": [
        {
          "output_type": "stream",
          "name": "stdout",
          "text": [
            "modelo LogisticRegression(max_iter=53, solver='liblinear')\n",
            "R^2 :  -0.016150246025864456\n",
            "MAE : 0.4021024967148489\n",
            "RMSE: 0.7249994335944138\n",
            "[[  9  48  45]\n",
            " [  5  51 142]\n",
            " [  2  17 442]]\n",
            "Accuracy    = 0.66\n",
            "Sensitvity  = [0.088 0.258 0.959]\n",
            "Precision   = [0.562 0.44  0.703]\n",
            "       \n",
            "modelo GaussianNB()\n",
            "R^2 :  -0.1177652706284511\n",
            "MAE : 0.43626806833114323\n",
            "RMSE: 0.7603858208721693\n",
            "[[ 45  44  13]\n",
            " [ 54  93  51]\n",
            " [ 41  75 345]]\n",
            "Accuracy    = 0.635\n",
            "Sensitvity  = [0.441 0.47  0.748]\n",
            "Precision   = [0.321 0.439 0.844]\n",
            "       \n",
            "modelo KNeighborsClassifier(n_neighbors=51)\n",
            "R^2 :  -0.1482497780092269\n",
            "MAE : 0.43626806833114323\n",
            "RMSE: 0.770684969325865\n",
            "[[  9  35  58]\n",
            " [  6  44 148]\n",
            " [  2  23 436]]\n",
            "Accuracy    = 0.643\n",
            "Sensitvity  = [0.088 0.222 0.946]\n",
            "Precision   = [0.529 0.431 0.679]\n",
            "       \n"
          ]
        }
      ]
    },
    {
      "cell_type": "code",
      "source": [
        "# Teste com texto fora da base de dados\n",
        "artigo = \"The 5d pyrochlore oxide superconductor Cd2Re2O7 (CRO) has attracted significant interest as a spin–orbit-coupled metal (SOCM) that spontaneously undergoes a phase transition to an odd-parity multipole phase by breaking the spatial inversion symmetry due to the Fermi liquid instability caused by strong spin–orbit coupling. Despite the significance of structural information during the transition, previous experimental results regarding lattice deformation have been elusive. \"\n",
        "new_docs = (artigo, \"easy text\")\n",
        "new_line_X  = my_vectorizer.transform(new_docs)\n",
        "\n",
        "print(\"modelo\", M)\n",
        "print(M.predict(new_line_X))\n",
        "print(\"modelo\", GNB)\n",
        "print(GNB.predict(new_line_X.toarray()))\n",
        "print(\"modelo\", KNN)\n",
        "print(KNN.predict(new_line_X.toarray()))\n",
        "print()"
      ],
      "metadata": {
        "id": "ZwvAbNwPt3HK"
      },
      "execution_count": null,
      "outputs": []
    },
    {
      "cell_type": "markdown",
      "source": [
        "\n",
        "\n",
        "GRID SEARCH\n",
        "\n",
        "\n"
      ],
      "metadata": {
        "id": "cLdgk1N1oLNl"
      }
    },
    {
      "cell_type": "code",
      "source": [
        "\n",
        "from sklearn.model_selection import GridSearchCV\n",
        "from sklearn.metrics import fbeta_score, make_scorer\n",
        "import warnings\n",
        "warnings.filterwarnings(action='ignore')                  # Turn off the warnings.\n",
        "# exemplos de parametros para melhorar = {\n",
        "# \"vect max_features\" \n",
        "# \"vect min_df\" \n",
        "# \"vect max_df\"\n",
        "# \"knn neighbors\"\n",
        "# \"Linear regression max iter\"}\n"
      ],
      "metadata": {
        "id": "oMkLTegUQGKZ"
      },
      "execution_count": 325,
      "outputs": []
    },
    {
      "cell_type": "code",
      "source": [
        "#Grid search no KNN \n",
        "grid = GridSearchCV(KNN, {\"n_neighbors\" : np.linspace(1,1001,20).astype(int)}, n_jobs = -1, scoring=\"accuracy\",verbose = 3)\n",
        "grid.fit(x_train,y_train)\n",
        "best_k = grid.best_params_['n_neighbors']\n",
        "print(\"Best k : \" + str(best_k))"
      ],
      "metadata": {
        "colab": {
          "base_uri": "https://localhost:8080/"
        },
        "id": "2LGu3ULeSGVv",
        "outputId": "6d6c247e-c865-44b3-a787-6bde4e6f2f99"
      },
      "execution_count": 329,
      "outputs": [
        {
          "output_type": "stream",
          "name": "stdout",
          "text": [
            "Fitting 5 folds for each of 20 candidates, totalling 100 fits\n",
            "Best k : 53\n"
          ]
        }
      ]
    },
    {
      "cell_type": "code",
      "source": [
        "#Grid search no Linear Regression \n",
        "grid = GridSearchCV(M, {\"max_iter\" : np.linspace(1,5001,100).astype(int)}, cv=10, n_jobs = -1, scoring=\"accuracy\",verbose = 3)\n",
        "grid.fit(x_train,y_train)\n",
        "best_iter = grid.best_params_['max_iter']\n",
        "print(\"Best iter : \" + str(best_iter))"
      ],
      "metadata": {
        "colab": {
          "base_uri": "https://localhost:8080/"
        },
        "id": "X62eX5VNlnId",
        "outputId": "b69dd496-f8cd-40d0-ddec-689c338e4c4a"
      },
      "execution_count": 328,
      "outputs": [
        {
          "output_type": "stream",
          "name": "stdout",
          "text": [
            "Fitting 10 folds for each of 100 candidates, totalling 1000 fits\n",
            "Best iter : 51\n"
          ]
        }
      ]
    },
    {
      "cell_type": "code",
      "source": [
        "#EXTRA AND NOT IMPORTANT\n",
        "import matplotlib.pyplot as plt\n",
        "y_pred_test_prob=M.predict_proba(x_test)[:,2] \n",
        "FPR, TPR, cutoffs = metrics.roc_curve(y_test,y_pred_test_prob,pos_label=2)      # positive label = 2 difícil.     \n",
        "# Visualize.\n",
        "plt.plot(FPR,TPR,c='red',linewidth=1.0)\n",
        "plt.xlabel('False Positive')\n",
        "plt.ylabel('True Positive')\n",
        "plt.title('ROC Curve')\n",
        "plt.show()                                  "
      ],
      "metadata": {
        "colab": {
          "base_uri": "https://localhost:8080/",
          "height": 295
        },
        "id": "JFHLnRHHSGYh",
        "outputId": "d3730bfd-247e-48f6-83b6-dccde68c62b5"
      },
      "execution_count": 288,
      "outputs": [
        {
          "output_type": "display_data",
          "data": {
            "text/plain": [
              "<Figure size 432x288 with 1 Axes>"
            ],
            "image/png": "[encoded data removed]"
          },
          "metadata": {
            "needs_background": "light"
          }
        }
      ]
    }
  ]
}