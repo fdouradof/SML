{
  "nbformat": 4,
  "nbformat_minor": 0,
  "metadata": {
    "colab": {
      "provenance": [],
      "authorship_tag": "ABX9TyOHQhfl3gAXB0qe9KX6O5mR",
      "include_colab_link": true
    },
    "kernelspec": {
      "name": "python3",
      "display_name": "Python 3"
    },
    "language_info": {
      "name": "python"
    },
    "widgets": {
      "application/vnd.jupyter.widget-state+json": {
        "139bc78633bb4d87a3ad4a038ccf809a": {
          "model_module": "@jupyter-widgets/controls",
          "model_name": "HTMLModel",
          "model_module_version": "1.5.0",
          "state": {
            "_dom_classes": [],
            "_model_module": "@jupyter-widgets/controls",
            "_model_module_version": "1.5.0",
            "_model_name": "HTMLModel",
            "_view_count": null,
            "_view_module": "@jupyter-widgets/controls",
            "_view_module_version": "1.5.0",
            "_view_name": "HTMLView",
            "description": "",
            "description_tooltip": null,
            "layout": "IPY_MODEL_be78cf44ec084960a300bfa72a0c670b",
            "placeholder": "​",
            "style": "IPY_MODEL_8168d0de10794f25afe4debc1e2c9d43",
            "value": "Wikipedia Search"
          }
        },
        "be78cf44ec084960a300bfa72a0c670b": {
          "model_module": "@jupyter-widgets/base",
          "model_name": "LayoutModel",
          "model_module_version": "1.2.0",
          "state": {
            "_model_module": "@jupyter-widgets/base",
            "_model_module_version": "1.2.0",
            "_model_name": "LayoutModel",
            "_view_count": null,
            "_view_module": "@jupyter-widgets/base",
            "_view_module_version": "1.2.0",
            "_view_name": "LayoutView",
            "align_content": null,
            "align_items": null,
            "align_self": null,
            "border": null,
            "bottom": null,
            "display": null,
            "flex": null,
            "flex_flow": null,
            "grid_area": null,
            "grid_auto_columns": null,
            "grid_auto_flow": null,
            "grid_auto_rows": null,
            "grid_column": null,
            "grid_gap": null,
            "grid_row": null,
            "grid_template_areas": null,
            "grid_template_columns": null,
            "grid_template_rows": null,
            "height": null,
            "justify_content": null,
            "justify_items": null,
            "left": null,
            "margin": null,
            "max_height": null,
            "max_width": null,
            "min_height": null,
            "min_width": null,
            "object_fit": null,
            "object_position": null,
            "order": null,
            "overflow": null,
            "overflow_x": null,
            "overflow_y": null,
            "padding": null,
            "right": null,
            "top": null,
            "visibility": null,
            "width": null
          }
        },
        "8168d0de10794f25afe4debc1e2c9d43": {
          "model_module": "@jupyter-widgets/controls",
          "model_name": "DescriptionStyleModel",
          "model_module_version": "1.5.0",
          "state": {
            "_model_module": "@jupyter-widgets/controls",
            "_model_module_version": "1.5.0",
            "_model_name": "DescriptionStyleModel",
            "_view_count": null,
            "_view_module": "@jupyter-widgets/base",
            "_view_module_version": "1.2.0",
            "_view_name": "StyleView",
            "description_width": ""
          }
        },
        "30f0e8c9e7074e95ac9be3a0a19f4a95": {
          "model_module": "@jupyter-widgets/controls",
          "model_name": "TextModel",
          "model_module_version": "1.5.0",
          "state": {
            "_dom_classes": [],
            "_model_module": "@jupyter-widgets/controls",
            "_model_module_version": "1.5.0",
            "_model_name": "TextModel",
            "_view_count": null,
            "_view_module": "@jupyter-widgets/controls",
            "_view_module_version": "1.5.0",
            "_view_name": "TextView",
            "continuous_update": true,
            "description": "Query:",
            "description_tooltip": null,
            "disabled": false,
            "layout": "IPY_MODEL_8d827a9898c9412088169a1230cf5ed9",
            "placeholder": "escolha algo interessante",
            "style": "IPY_MODEL_980feb23cebf4a4ca2714728ab09aa3c",
            "value": "Cooking"
          }
        },
        "8d827a9898c9412088169a1230cf5ed9": {
          "model_module": "@jupyter-widgets/base",
          "model_name": "LayoutModel",
          "model_module_version": "1.2.0",
          "state": {
            "_model_module": "@jupyter-widgets/base",
            "_model_module_version": "1.2.0",
            "_model_name": "LayoutModel",
            "_view_count": null,
            "_view_module": "@jupyter-widgets/base",
            "_view_module_version": "1.2.0",
            "_view_name": "LayoutView",
            "align_content": null,
            "align_items": null,
            "align_self": null,
            "border": null,
            "bottom": null,
            "display": null,
            "flex": null,
            "flex_flow": null,
            "grid_area": null,
            "grid_auto_columns": null,
            "grid_auto_flow": null,
            "grid_auto_rows": null,
            "grid_column": null,
            "grid_gap": null,
            "grid_row": null,
            "grid_template_areas": null,
            "grid_template_columns": null,
            "grid_template_rows": null,
            "height": null,
            "justify_content": null,
            "justify_items": null,
            "left": null,
            "margin": null,
            "max_height": null,
            "max_width": null,
            "min_height": null,
            "min_width": null,
            "object_fit": null,
            "object_position": null,
            "order": null,
            "overflow": null,
            "overflow_x": null,
            "overflow_y": null,
            "padding": null,
            "right": null,
            "top": null,
            "visibility": null,
            "width": null
          }
        },
        "980feb23cebf4a4ca2714728ab09aa3c": {
          "model_module": "@jupyter-widgets/controls",
          "model_name": "DescriptionStyleModel",
          "model_module_version": "1.5.0",
          "state": {
            "_model_module": "@jupyter-widgets/controls",
            "_model_module_version": "1.5.0",
            "_model_name": "DescriptionStyleModel",
            "_view_count": null,
            "_view_module": "@jupyter-widgets/base",
            "_view_module_version": "1.2.0",
            "_view_name": "StyleView",
            "description_width": ""
          }
        },
        "70f1cf447bd846df9c8f2d9ef3582499": {
          "model_module": "@jupyter-widgets/controls",
          "model_name": "ButtonModel",
          "model_module_version": "1.5.0",
          "state": {
            "_dom_classes": [],
            "_model_module": "@jupyter-widgets/controls",
            "_model_module_version": "1.5.0",
            "_model_name": "ButtonModel",
            "_view_count": null,
            "_view_module": "@jupyter-widgets/controls",
            "_view_module_version": "1.5.0",
            "_view_name": "ButtonView",
            "button_style": "",
            "description": "Classificar",
            "disabled": false,
            "icon": "",
            "layout": "IPY_MODEL_d21bde01f50f4ef4a0bbe916a30bfd3b",
            "style": "IPY_MODEL_99647fbc191242bb89b3c65c2c266536",
            "tooltip": ""
          }
        },
        "d21bde01f50f4ef4a0bbe916a30bfd3b": {
          "model_module": "@jupyter-widgets/base",
          "model_name": "LayoutModel",
          "model_module_version": "1.2.0",
          "state": {
            "_model_module": "@jupyter-widgets/base",
            "_model_module_version": "1.2.0",
            "_model_name": "LayoutModel",
            "_view_count": null,
            "_view_module": "@jupyter-widgets/base",
            "_view_module_version": "1.2.0",
            "_view_name": "LayoutView",
            "align_content": null,
            "align_items": null,
            "align_self": null,
            "border": null,
            "bottom": null,
            "display": null,
            "flex": null,
            "flex_flow": null,
            "grid_area": null,
            "grid_auto_columns": null,
            "grid_auto_flow": null,
            "grid_auto_rows": null,
            "grid_column": null,
            "grid_gap": null,
            "grid_row": null,
            "grid_template_areas": null,
            "grid_template_columns": null,
            "grid_template_rows": null,
            "height": null,
            "justify_content": null,
            "justify_items": null,
            "left": null,
            "margin": null,
            "max_height": null,
            "max_width": null,
            "min_height": null,
            "min_width": null,
            "object_fit": null,
            "object_position": null,
            "order": null,
            "overflow": null,
            "overflow_x": null,
            "overflow_y": null,
            "padding": null,
            "right": null,
            "top": null,
            "visibility": null,
            "width": null
          }
        },
        "99647fbc191242bb89b3c65c2c266536": {
          "model_module": "@jupyter-widgets/controls",
          "model_name": "ButtonStyleModel",
          "model_module_version": "1.5.0",
          "state": {
            "_model_module": "@jupyter-widgets/controls",
            "_model_module_version": "1.5.0",
            "_model_name": "ButtonStyleModel",
            "_view_count": null,
            "_view_module": "@jupyter-widgets/base",
            "_view_module_version": "1.2.0",
            "_view_name": "StyleView",
            "button_color": null,
            "font_weight": ""
          }
        }
      }
    }
  },
  "cells": [
    {
      "cell_type": "markdown",
      "metadata": {
        "id": "view-in-github",
        "colab_type": "text"
      },
      "source": [
        "<a href=\"https://colab.research.google.com/github/fdouradof/SML/blob/main/TeacherBOT_GUI.ipynb\" target=\"_parent\"><img src=\"https://colab.research.google.com/assets/colab-badge.svg\" alt=\"Open In Colab\"/></a>"
      ]
    },
    {
      "cell_type": "code",
      "source": [
        "!pip install mediawikiapi\n",
        "!pip install wikipedia"
      ],
      "metadata": {
        "id": "-0tRgWSWG3Md"
      },
      "execution_count": null,
      "outputs": []
    },
    {
      "cell_type": "code",
      "source": [
        "import pandas as pd\n",
        "import numpy as np\n",
        "import mediawikiapi\n",
        "import re\n",
        "import nltk\n",
        "from nltk.stem import SnowballStemmer\n",
        "from nltk.corpus import stopwords\n",
        "from sklearn.feature_extraction.text import TfidfVectorizer\n",
        "from sklearn.metrics import pairwise_distances\n",
        "from sklearn.feature_extraction.text import CountVectorizer\n",
        "from sklearn.linear_model import LogisticRegression\n",
        "from sklearn.model_selection import train_test_split\n",
        "from sklearn.naive_bayes import GaussianNB\n",
        "from sklearn.neighbors import KNeighborsClassifier\n",
        "from sklearn.metrics import mean_absolute_error,r2_score,mean_squared_error\n",
        "from sklearn import metrics\n",
        "import wikipedia\n",
        "import requests\n",
        "from bs4 import BeautifulSoup\n",
        "SIZE = 10\n",
        "def dificuldade(x):\n",
        "    if x < -2:\n",
        "        return 2\n",
        "\n",
        "    if x > -2 and x < -1:\n",
        "        return 1\n",
        "\n",
        "    else:\n",
        "        return 0\n",
        "def evaluate(model,x_test,y_test):\n",
        "  y_pred = model.predict(x_test)\n",
        "  conf_mat = metrics.confusion_matrix(y_test,y_pred)\n",
        "  print(conf_mat)\n",
        "\n",
        "  accuracy = metrics.accuracy_score(y_test,y_pred)\n",
        "  sensitivity = metrics.recall_score(y_test,y_pred,average = None)\n",
        "  precision = metrics.precision_score(y_test,y_pred, average = None)\n",
        "  print('Accuracy    = {}'.format(np.round(accuracy,3)))\n",
        "  print('Sensitvity  = {}'.format(np.round(sensitivity,3)))\n",
        "  print('Precision   = {}'.format(np.round(precision,3)))\n",
        "  print(\"       \")\n",
        "def ti(docs,max_features,min_df,max_df):\n",
        "    docs = [str(x).lower() for x in docs]\n",
        "    vectorizer = TfidfVectorizer(max_features = max_features, min_df = min_df, max_df = max_df, stop_words=stopwords.words('english'))\n",
        "    X = vectorizer.fit_transform(docs).toarray()\n",
        "    key_words = vectorizer.get_feature_names_out()\n",
        "    return X, key_words, vectorizer\n",
        "\n",
        "def read_data(filename):\n",
        "    df = pd.DataFrame(pd.read_excel(filename))\n",
        "    #mask = df.loc[df['Category'] == \"Info\"]\n",
        "    model_data = df[[\"Excerpt\",\"BT Easiness\"]]\n",
        "    model_data[\"label\"] = model_data[\"BT Easiness\"].apply(dificuldade)\n",
        "    return model_data\n",
        "def predict(new_docs):\n",
        "    new_line_X  = my_vectorizer.transform(new_docs)\n",
        "    return GNB.predict(new_line_X.toarray())\n",
        "\n",
        "\n",
        "def query(query):\n",
        "    url = 'https://en.wikipedia.org/w/api.php'\n",
        "    params = {\n",
        "        'action': 'query',\n",
        "        'format': 'json',\n",
        "        'list': 'search',\n",
        "        'utf8': 1,\n",
        "        'srsearch': query\n",
        "    }\n",
        "\n",
        "    data = requests.get(url, params=params).json()\n",
        "\n",
        "    for i in data['query']['search']:\n",
        "        print(i['title'], ' - Word count: ', i['wordcount'])\n",
        "    return data\n",
        "def links(subject):\n",
        "    url = 'https://en.wikipedia.org/w/api.php'\n",
        "    params = {\n",
        "        'action': 'parse',\n",
        "        'prop': 'text',\n",
        "        'format': 'json',\n",
        "        'page': subject,\n",
        "        'section': 0,\n",
        "        'redirects': ''\n",
        "    }\n",
        "    data = requests.get(url, params=params).json()\n",
        "\n",
        "    soup = BeautifulSoup(data['parse']['text']['*'], 'html.parser')\n",
        "\n",
        "    infobox = soup.find('table', {'class': 'infobox', 'class': 'sidebar'})\n",
        "\n",
        "    a_tags = infobox.find_all('a', href=True)\n",
        "\n",
        "    links = []\n",
        "    for tag in a_tags:\n",
        "        if not tag.text == '' and 'wiki' in tag['href']:\n",
        "            links.append({'anchor': tag.text, 'href': tag['href']})\n",
        "\n",
        "    return pd.DataFrame(links)\n",
        "def text(subject):\n",
        "    url = 'https://en.wikipedia.org/w/api.php'\n",
        "    params = {\n",
        "        'action': 'parse',\n",
        "        'page': subject,\n",
        "        'format': 'json',\n",
        "        'prop': 'text',\n",
        "        'redirects': ''\n",
        "    }\n",
        "\n",
        "    response = requests.get(url, params=params)\n",
        "    data = response.json()\n",
        "\n",
        "    raw_html = data['parse']['text']['*']\n",
        "    soup = BeautifulSoup(raw_html, 'html.parser')\n",
        "    soup.find_all('p')\n",
        "    text = ''\n",
        "\n",
        "    for p in soup.find_all('p'):\n",
        "        text += p.text\n",
        "\n",
        "    # print('Text length: ', len(text))\n",
        "    return text\n",
        "\n",
        "\n",
        "def wordize(soup,match):\n",
        "\n",
        "    page_title = \"TITLE\"\n",
        "    # find(\"span\", class_=\"mw-page-title-main\")\n",
        "    page_texts = soup.find_all(\"p\")\n",
        "\n",
        "    text_f = []\n",
        "    words = []\n",
        "    data = []\n",
        "    for text in page_texts:\n",
        "        text_t = nltk.word_tokenize(text.text)\n",
        "        # if match in text_t:\n",
        "        words.append((text_t))\n",
        "        text_f.append(text.text)\n",
        "        sentences = nltk.sent_tokenize(text.text)\n",
        "        for i in range(len(sentences)):\n",
        "            sentences[i] = sentences[i].lower()\n",
        "            sentences[i] = re.sub(r'\\W', ' ',\n",
        "                                  sentences[i])  # Substitute the non-alphanumeric characters with space.\n",
        "            sentences[i] = re.sub(r'\\s+', ' ', sentences[i])  # Remove the excess of white spaces.\n",
        "            sentences[i] = re.sub(r'\\s$', '', sentences[i])  # Remove the space at the end of a sentence.\n",
        "        for i in range(len(sentences)):\n",
        "            words = nltk.word_tokenize(sentences[i])  # Tokenize into words.\n",
        "            words = [x for x in words if x not in stopwords.words('english')]  # Remove the stop words.\n",
        "            sentences[i] = ' '.join(words)\n",
        "\n",
        "\n",
        "        data.append(sentences)\n",
        "\n",
        "\n",
        "    if len(data)<4:\n",
        "        return False\n",
        "\n",
        "    else:\n",
        "        print(\"Analizing Page title:     \",page_title)\n",
        "        print(\"paragraphs matches (LEN): \",len(data))\n",
        "        print(\"-------------------------------------\")\n",
        "        return(data)\n",
        "def get_links(soup,word):\n",
        "    lk = np.zeros(SIZE, dtype= \"U100\")\n",
        "    lkt = np.zeros(SIZE, dtype= \"U100\")\n",
        "    count = 0\n",
        "\n",
        "    for link in soup.find_all(\"a\"):\n",
        "        url = link.get(\"href\", \"\")\n",
        "\n",
        "        if word in url.lower():\n",
        "            try:\n",
        "                lk[count] = url\n",
        "                lkt[count] = link.text.strip()\n",
        "                count += 1\n",
        "            except:\n",
        "                pass\n",
        "\n",
        "    df = {\"Title\" : lkt , \"Link\" : lk}\n",
        "    df = pd.DataFrame(df)\n",
        "    return df\n",
        "def sciencekids():\n",
        "    \"retorna lista de textos para serem preditos\"\n",
        "    page = requests.get(\"https://www.sciencekids.co.nz/lessonplans/chemistry.html\")\n",
        "    soup = BeautifulSoup(page.content, \"html.parser\")\n",
        "    s_links = get_links(soup, \"chemistry\")\n",
        "    catalogo = s_links[::2]\n",
        "    texts = []\n",
        "    for link in catalogo[\"Link\"]:\n",
        "        url = \"https://www.sciencekids.co.nz/lessonplans/\" + link\n",
        "        page = requests.get(url)\n",
        "        soup = BeautifulSoup(page.content, \"html.parser\")\n",
        "        text = \"\".join(str(wordize(soup, \"egg\")))\n",
        "        texts.append(text)\n",
        "    return texts\n",
        "def role():\n",
        "    txt = []\n",
        "    titles = []\n",
        "    for i in range(len(q)):\n",
        "        title = q[i]\n",
        "        txt.append(text(title))\n",
        "        titles.append(title)\n",
        "\n",
        "    print(list(zip(titles, predict(q))))\n",
        "\n",
        "# texto = sciencekids()\n",
        "# print(predict(texto))"
      ],
      "metadata": {
        "id": "IMa9pbi0oSYf"
      },
      "execution_count": 171,
      "outputs": []
    },
    {
      "cell_type": "code",
      "source": [
        "nltk.download('stopwords')"
      ],
      "metadata": {
        "colab": {
          "base_uri": "https://localhost:8080/"
        },
        "id": "kVJIKq1IHkNF",
        "outputId": "1f0ffda5-ff41-490e-bb63-c4fc666781b3"
      },
      "execution_count": null,
      "outputs": [
        {
          "output_type": "stream",
          "name": "stderr",
          "text": [
            "[nltk_data] Downloading package stopwords to /root/nltk_data...\n",
            "[nltk_data]   Unzipping corpora/stopwords.zip.\n"
          ]
        },
        {
          "output_type": "execute_result",
          "data": {
            "text/plain": [
              "True"
            ]
          },
          "metadata": {},
          "execution_count": 12
        }
      ]
    },
    {
      "cell_type": "code",
      "source": [
        "#READ DATA\n",
        "modeldata = read_data(\"Clear Corpus 6.0.1 (1).xlsx\")\n",
        "docs = modeldata[\"Excerpt\"]\n",
        "\n",
        "#VECTORIZER\n",
        "X, kw, my_vectorizer = ti(docs,max_features=2000, min_df=0.01, max_df=0.90)\n",
        "x_values = pd.DataFrame(X, columns = kw).values\n",
        "\n",
        "y_values = modeldata[\"label\"].values\n",
        "#ML MODELS\n",
        "M = LogisticRegression(solver='liblinear',max_iter=53)\n",
        "x_train,x_test, y_train, y_test = train_test_split(x_values,y_values, test_size = 0.33, random_state=42)\n",
        "M.fit(x_train,y_train)\n",
        "GNB = GaussianNB()\n",
        "GNB.fit(x_train,y_train)\n",
        "KNN = KNeighborsClassifier(n_neighbors=51)\n",
        "KNN.fit(x_train,y_train)\n"
      ],
      "metadata": {
        "id": "qqyF26nSGyUt",
        "colab": {
          "base_uri": "https://localhost:8080/"
        },
        "outputId": "48ad2dba-0c48-42b2-837e-a7e4b6c268a6"
      },
      "execution_count": 172,
      "outputs": [
        {
          "output_type": "stream",
          "name": "stderr",
          "text": [
            "/usr/local/lib/python3.7/dist-packages/ipykernel_launcher.py:53: SettingWithCopyWarning: \n",
            "A value is trying to be set on a copy of a slice from a DataFrame.\n",
            "Try using .loc[row_indexer,col_indexer] = value instead\n",
            "\n",
            "See the caveats in the documentation: https://pandas.pydata.org/pandas-docs/stable/user_guide/indexing.html#returning-a-view-versus-a-copy\n"
          ]
        },
        {
          "output_type": "execute_result",
          "data": {
            "text/plain": [
              "KNeighborsClassifier(n_neighbors=51)"
            ]
          },
          "metadata": {},
          "execution_count": 172
        }
      ]
    },
    {
      "cell_type": "code",
      "execution_count": 182,
      "metadata": {
        "colab": {
          "base_uri": "https://localhost:8080/",
          "height": 203,
          "referenced_widgets": [
            "139bc78633bb4d87a3ad4a038ccf809a",
            "be78cf44ec084960a300bfa72a0c670b",
            "8168d0de10794f25afe4debc1e2c9d43",
            "30f0e8c9e7074e95ac9be3a0a19f4a95",
            "8d827a9898c9412088169a1230cf5ed9",
            "980feb23cebf4a4ca2714728ab09aa3c"
          ]
        },
        "id": "JdTl43HWn-NV",
        "outputId": "57c8aeee-8ca8-4f4c-d794-b363d3c34803"
      },
      "outputs": [
        {
          "output_type": "display_data",
          "data": {
            "text/plain": [
              "HTML(value='Wikipedia Search')"
            ],
            "application/vnd.jupyter.widget-view+json": {
              "version_major": 2,
              "version_minor": 0,
              "model_id": "139bc78633bb4d87a3ad4a038ccf809a"
            }
          },
          "metadata": {}
        },
        {
          "output_type": "display_data",
          "data": {
            "text/plain": [
              "Text(value='ML', description='Query:', placeholder='escolha algo interessante')"
            ],
            "application/vnd.jupyter.widget-view+json": {
              "version_major": 2,
              "version_minor": 0,
              "model_id": "30f0e8c9e7074e95ac9be3a0a19f4a95"
            }
          },
          "metadata": {}
        },
        {
          "output_type": "stream",
          "name": "stdout",
          "text": [
            "Pesquisa aceite com Machi\n",
            "PESQUISA:  ['Machi', 'Erased (manga)', 'Carmen Machi', 'Machi Koro', 'Machi (name)', 'Super Machi', 'Nankin-machi', 'Machi Goth', 'Machi (film)', 'Machi (shaman)']\n",
            "Pesquisa aceite com Machine\n",
            "PESQUISA:  ['Machine', 'Wayback Machine', 'Machine learning', 'Machine to machine', \"Gary Dell'Abate\", 'Machine gun', 'Simple machine', 'Sewing machine', 'Machine II Machine', 'Enigma machine']\n",
            "Pesquisa aceite com Cooking\n",
            "PESQUISA:  ['Cooking', 'Induction cooking', 'Cooking banana', 'Cooking oil', 'Cooking? Cooking!', 'Molecular gastronomy', 'Blanching (cooking)', 'Pressure cooking', 'Batter (cooking)', 'Smoking (cooking)']\n"
          ]
        }
      ],
      "source": [
        "import ipywidgets\n",
        "from ipywidgets import interact, widgets\n",
        "from IPython.display import display\n",
        "\n",
        "# take user input\n",
        "page_texts = []\n",
        "def submit(a):\n",
        "    print('Pesquisa aceite com', text_wid.value)\n",
        "    search = wikipedia.search(text_wid.value)\n",
        "    print(\"PESQUISA: \",search)\n",
        "    for title in search:\n",
        "      page_text = text(title)\n",
        "      page_texts.append(page_text)\n",
        "      # print(\"TEXTO: \", page_text[:100] )\n",
        "    return page_texts\n",
        "\n",
        "text_wid = ipywidgets.Text(value='ML',placeholder='escolha algo interessante',description='Query:',disabled=False)\n",
        "instructions = ipywidgets.widgets.HTML(\"Wikipedia Search\")\n",
        "display(instructions)\n",
        "display(text_wid)\n",
        "text_wid.on_submit(submit)"
      ]
    },
    {
      "cell_type": "code",
      "source": [
        "def on_button_clicked(a):\n",
        "  z = zip(wikipedia.search(text_wid.value),predict(page_texts))\n",
        "  print(list(z))\n",
        "\n",
        "button = ipywidgets.widgets.Button(description=\"Classificar\")\n",
        "button.on_click(on_button_clicked)\n",
        "display(button)"
      ],
      "metadata": {
        "colab": {
          "base_uri": "https://localhost:8080/",
          "height": 104,
          "referenced_widgets": [
            "70f1cf447bd846df9c8f2d9ef3582499",
            "d21bde01f50f4ef4a0bbe916a30bfd3b",
            "99647fbc191242bb89b3c65c2c266536"
          ]
        },
        "id": "q8jo1oH6glN5",
        "outputId": "9d2ea9e1-c6de-441a-9f54-9c635bb73d1e"
      },
      "execution_count": 186,
      "outputs": [
        {
          "output_type": "display_data",
          "data": {
            "text/plain": [
              "Button(description='Classificar', style=ButtonStyle())"
            ],
            "application/vnd.jupyter.widget-view+json": {
              "version_major": 2,
              "version_minor": 0,
              "model_id": "70f1cf447bd846df9c8f2d9ef3582499"
            }
          },
          "metadata": {}
        },
        {
          "output_type": "stream",
          "name": "stdout",
          "text": [
            "[('Machine', 2), ('Wayback Machine', 2), ('Machine learning', 0), ('Machine to machine', 2), (\"Gary Dell'Abate\", 2), ('Machine gun', 1), ('Simple machine', 1), ('Sewing machine', 2), ('Machine II Machine', 1), ('Enigma machine', 2)]\n",
            "[('Cooking', 2), ('Induction cooking', 2), ('Cooking banana', 0), ('Cooking oil', 2), ('Cooking? Cooking!', 2), ('Molecular gastronomy', 1), ('Blanching (cooking)', 1), ('Pressure cooking', 2), ('Batter (cooking)', 1), ('Smoking (cooking)', 2)]\n"
          ]
        }
      ]
    }
  ]
}